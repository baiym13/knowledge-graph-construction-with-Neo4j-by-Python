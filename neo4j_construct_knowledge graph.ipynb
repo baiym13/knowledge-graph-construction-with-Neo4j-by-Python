{
 "cells": [
  {
   "cell_type": "markdown",
   "id": "240af90f",
   "metadata": {},
   "source": [
    "# 20240122DBforLym&Cart"
   ]
  },
  {
   "cell_type": "code",
   "execution_count": 1,
   "id": "ad2e78ae",
   "metadata": {},
   "outputs": [],
   "source": [
    "from neo4jforpy import GraphDatabase#下载包为neo4j,由于同名软件，因此该名称为neo4jforpy"
   ]
  },
  {
   "cell_type": "code",
   "execution_count": 2,
   "id": "7cbba87a",
   "metadata": {},
   "outputs": [
    {
     "name": "stdout",
     "output_type": "stream",
     "text": [
      "concept load done\n",
      "rel0 load done\n",
      "rel1 load done\n",
      "rel2 load done\n",
      "rel3 load done\n",
      "rel4 load done\n",
      "rel5 load done\n",
      "rel6 load done\n",
      "rel7 load done\n",
      "rel8 load done\n",
      "rel9 load done\n",
      "rel10 load done\n",
      "rel11 load done\n",
      "rel12 load done\n"
     ]
    }
   ],
   "source": [
    "class Neo4jConnection:\n",
    "\n",
    "    def __init__(self, uri, user, password):\n",
    "        self.driver = GraphDatabase.driver(uri, auth=(user, password))\n",
    "\n",
    "    def run_query(self, query):\n",
    "        with self.driver.session() as session:\n",
    "            session.run(query)\n",
    "\n",
    "    def close(self):\n",
    "        self.driver.close()\n",
    "\n",
    "if __name__ == \"__main__\":\n",
    "\n",
    "    greeter = Neo4jConnection(\"bolt://localhost:7687\", \"neo4j\", \"bai130028\")\n",
    "    query = '''\n",
    "        LOAD CSV WITH HEADERS FROM \"file:///en.csv\" AS line MERGE (concept:concept{concept:line.en,concept_ID:line.en_cui, en_type_abbr:line.en_type_abbr,en_type:line.en_type, en_zh:line.en_zh})\n",
    "        '''\n",
    "    greeter.run_query(query)\n",
    "    print(\"concept load done\")\n",
    "    query = '''\n",
    "            LOAD CSV WITH HEADERS FROM \"file:///spo_count_0.csv\" AS line match (from:concept{concept_ID:line.subject_cui}),(to:concept{concept_ID:line.object_cui}) merge (from)-[r:rel{ predicate:line.predicate_en, predicate_zh:line.predicate_zh,pmid:line.pmid,pmid_count:line.pmid_count,sentence:line.sentence,sentence_count:line.sentence_count}]->(to);\n",
    "            '''\n",
    "    greeter.run_query(query)\n",
    "    print(\"rel0 load done\")\n",
    "    query = '''\n",
    "            LOAD CSV WITH HEADERS FROM \"file:///spo_count_1.csv\" AS line match (from:concept{concept_ID:line.subject_cui}),(to:concept{concept_ID:line.object_cui}) merge (from)-[r:rel{ predicate:line.predicate_en, predicate_zh:line.predicate_zh,pmid:line.pmid,pmid_count:line.pmid_count,sentence:line.sentence,sentence_count:line.sentence_count}]->(to);\n",
    "            '''\n",
    "    greeter.run_query(query)\n",
    "    print(\"rel1 load done\")\n",
    "    query = '''\n",
    "            LOAD CSV WITH HEADERS FROM \"file:///spo_count_2.csv\" AS line match (from:concept{concept_ID:line.subject_cui}),(to:concept{concept_ID:line.object_cui}) merge (from)-[r:rel{ predicate:line.predicate_en, predicate_zh:line.predicate_zh,pmid:line.pmid,pmid_count:line.pmid_count,sentence:line.sentence,sentence_count:line.sentence_count}]->(to);\n",
    "            '''\n",
    "    greeter.run_query(query)\n",
    "    print(\"rel2 load done\")\n",
    "    query = '''\n",
    "            LOAD CSV WITH HEADERS FROM \"file:///spo_count_3.csv\" AS line match (from:concept{concept_ID:line.subject_cui}),(to:concept{concept_ID:line.object_cui}) merge (from)-[r:rel{ predicate:line.predicate_en, predicate_zh:line.predicate_zh,pmid:line.pmid,pmid_count:line.pmid_count,sentence:line.sentence,sentence_count:line.sentence_count}]->(to);\n",
    "            '''\n",
    "    greeter.run_query(query)\n",
    "    print(\"rel3 load done\")\n",
    "    query = '''\n",
    "            LOAD CSV WITH HEADERS FROM \"file:///spo_count_4.csv\" AS line match (from:concept{concept_ID:line.subject_cui}),(to:concept{concept_ID:line.object_cui}) merge (from)-[r:rel{ predicate:line.predicate_en, predicate_zh:line.predicate_zh,pmid:line.pmid,pmid_count:line.pmid_count,sentence:line.sentence,sentence_count:line.sentence_count}]->(to);\n",
    "            '''\n",
    "    greeter.run_query(query)\n",
    "    print(\"rel4 load done\")\n",
    "    query = '''\n",
    "            LOAD CSV WITH HEADERS FROM \"file:///spo_count_5.csv\" AS line match (from:concept{concept_ID:line.subject_cui}),(to:concept{concept_ID:line.object_cui}) merge (from)-[r:rel{ predicate:line.predicate_en, predicate_zh:line.predicate_zh,pmid:line.pmid,pmid_count:line.pmid_count,sentence:line.sentence,sentence_count:line.sentence_count}]->(to);\n",
    "            '''\n",
    "    greeter.run_query(query)\n",
    "    print(\"rel5 load done\")\n",
    "    query = '''\n",
    "            LOAD CSV WITH HEADERS FROM \"file:///spo_count_6.csv\" AS line match (from:concept{concept_ID:line.subject_cui}),(to:concept{concept_ID:line.object_cui}) merge (from)-[r:rel{ predicate:line.predicate_en, predicate_zh:line.predicate_zh,pmid:line.pmid,pmid_count:line.pmid_count,sentence:line.sentence,sentence_count:line.sentence_count}]->(to);\n",
    "            '''\n",
    "    greeter.run_query(query)\n",
    "    print(\"rel6 load done\")\n",
    "    query = '''\n",
    "            LOAD CSV WITH HEADERS FROM \"file:///spo_count_7.csv\" AS line match (from:concept{concept_ID:line.subject_cui}),(to:concept{concept_ID:line.object_cui}) merge (from)-[r:rel{ predicate:line.predicate_en, predicate_zh:line.predicate_zh,pmid:line.pmid,pmid_count:line.pmid_count,sentence:line.sentence,sentence_count:line.sentence_count}]->(to);\n",
    "            '''\n",
    "    greeter.run_query(query)\n",
    "    print(\"rel7 load done\")\n",
    "    query = '''\n",
    "            LOAD CSV WITH HEADERS FROM \"file:///spo_count_8.csv\" AS line match (from:concept{concept_ID:line.subject_cui}),(to:concept{concept_ID:line.object_cui}) merge (from)-[r:rel{ predicate:line.predicate_en, predicate_zh:line.predicate_zh,pmid:line.pmid,pmid_count:line.pmid_count,sentence:line.sentence,sentence_count:line.sentence_count}]->(to);\n",
    "            '''\n",
    "    greeter.run_query(query)\n",
    "    print(\"rel8 load done\")\n",
    "    query = '''\n",
    "            LOAD CSV WITH HEADERS FROM \"file:///spo_count_9.csv\" AS line match (from:concept{concept_ID:line.subject_cui}),(to:concept{concept_ID:line.object_cui}) merge (from)-[r:rel{ predicate:line.predicate_en, predicate_zh:line.predicate_zh,pmid:line.pmid,pmid_count:line.pmid_count,sentence:line.sentence,sentence_count:line.sentence_count}]->(to);\n",
    "            '''\n",
    "    greeter.run_query(query)\n",
    "    print(\"rel9 load done\")\n",
    "    query = '''\n",
    "            LOAD CSV WITH HEADERS FROM \"file:///spo_count_10.csv\" AS line match (from:concept{concept_ID:line.subject_cui}),(to:concept{concept_ID:line.object_cui}) merge (from)-[r:rel{ predicate:line.predicate_en, predicate_zh:line.predicate_zh,pmid:line.pmid,pmid_count:line.pmid_count,sentence:line.sentence,sentence_count:line.sentence_count}]->(to);\n",
    "            '''\n",
    "    greeter.run_query(query)\n",
    "    print(\"rel10 load done\")\n",
    "    query = '''\n",
    "            LOAD CSV WITH HEADERS FROM \"file:///spo_count_11.csv\" AS line match (from:concept{concept_ID:line.subject_cui}),(to:concept{concept_ID:line.object_cui}) merge (from)-[r:rel{ predicate:line.predicate_en, predicate_zh:line.predicate_zh,pmid:line.pmid,pmid_count:line.pmid_count,sentence:line.sentence,sentence_count:line.sentence_count}]->(to);\n",
    "            '''\n",
    "    greeter.run_query(query)\n",
    "    print(\"rel11 load done\")\n",
    "    query = '''\n",
    "            LOAD CSV WITH HEADERS FROM \"file:///spo_count_12.csv\" AS line match (from:concept{concept_ID:line.subject_cui}),(to:concept{concept_ID:line.object_cui}) merge (from)-[r:rel{ predicate:line.predicate_en, predicate_zh:line.predicate_zh,pmid:line.pmid,pmid_count:line.pmid_count,sentence:line.sentence,sentence_count:line.sentence_count}]->(to);\n",
    "            '''\n",
    "    greeter.run_query(query)\n",
    "    print(\"rel12 load done\")"
   ]
  },
  {
   "cell_type": "code",
   "execution_count": null,
   "id": "40475c36",
   "metadata": {},
   "outputs": [],
   "source": []
  },
  {
   "cell_type": "code",
   "execution_count": null,
   "id": "b322bf50",
   "metadata": {},
   "outputs": [],
   "source": []
  }
 ],
 "metadata": {
  "kernelspec": {
   "display_name": "Python 3 (ipykernel)",
   "language": "python",
   "name": "python3"
  },
  "language_info": {
   "codemirror_mode": {
    "name": "ipython",
    "version": 3
   },
   "file_extension": ".py",
   "mimetype": "text/x-python",
   "name": "python",
   "nbconvert_exporter": "python",
   "pygments_lexer": "ipython3",
   "version": "3.8.8"
  },
  "toc": {
   "base_numbering": 1,
   "nav_menu": {},
   "number_sections": true,
   "sideBar": true,
   "skip_h1_title": false,
   "title_cell": "Table of Contents",
   "title_sidebar": "Contents",
   "toc_cell": false,
   "toc_position": {},
   "toc_section_display": true,
   "toc_window_display": true
  }
 },
 "nbformat": 4,
 "nbformat_minor": 5
}
